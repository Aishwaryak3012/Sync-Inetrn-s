{
 "cells": [
  {
   "cell_type": "markdown",
   "metadata": {},
   "source": [
    "# Name: Aishwarya Khairnar"
   ]
  },
  {
   "cell_type": "markdown",
   "metadata": {
    "id": "SgfpSnNufXvG"
   },
   "source": [
    "# **Task 1: Create A Chatbot**"
   ]
  },
  {
   "cell_type": "code",
   "execution_count": 1,
   "metadata": {
    "id": "vryoiVuwYcL7"
   },
   "outputs": [],
   "source": [
    "import pandas as pd\n",
    "import tensorflow as tf\n",
    "import numpy as np"
   ]
  },
  {
   "cell_type": "code",
   "execution_count": 3,
   "metadata": {
    "id": "13nI67dDYb5W"
   },
   "outputs": [],
   "source": [
    "dataset = {\n",
    "  \"hi\": \"hi\",\n",
    "  \"hii\": \"hii\",\n",
    "  \"hello\": \"hello\",\n",
    "  \"hello\": \"hey\",\n",
    "  \"hey\": \"hey\",\n",
    "  \"how are you?\": \"I am fine\",\n",
    "  \"do you have time to talk?\": \"Yes, I have\",\n",
    "  \"what is your name?\": \"My name is Aishwarya\",\n",
    "  \"how old are you? \": \"22\",\n",
    "  \"what are you doing?\": \"I am a student\",\n",
    "  \"what do you study?\": \"I am studying Machine Learning\",\n",
    "  \"at which university?\": \"Pune university\",\n",
    "  \"what is the expected graduation year?\": \"2021\",\n",
    "  \"what skills do you have?\" : \"Python programming language, SQL, Power BI, Ability to solve programming problems, Ability to analyze data\",\n",
    "  \"what do you do in your free time?\": \"I love Dancing, travelling, and learn new skills\",\n",
    "  \"ok, thanks for your time\": \"You are Welcome\",\n",
    "  \"thanks\": \"You are Welcome\",\n",
    "  \"bye\": \"Bye\"\n",
    "\n",
    "}"
   ]
  },
  {
   "cell_type": "code",
   "execution_count": 4,
   "metadata": {
    "id": "JsLC7db2Yb1w"
   },
   "outputs": [],
   "source": [
    "questions = list(dataset.keys())\n",
    "answers = list(dataset.values())\n",
    "tokenizer = tf.keras.preprocessing.text.Tokenizer()\n",
    "tokenizer.fit_on_texts(questions)\n",
    "question_sequences = tokenizer.texts_to_sequences(questions)\n",
    "max_length = max([len(x) for x in question_sequences])\n",
    "padded_questions = tf.keras.preprocessing.sequence.pad_sequences(question_sequences, maxlen=max_length, padding='post')"
   ]
  },
  {
   "cell_type": "code",
   "execution_count": 5,
   "metadata": {
    "colab": {
     "base_uri": "https://localhost:8080/"
    },
    "id": "ZrHx6y6RYbzv",
    "outputId": "bd4c7963-31e4-43f0-8179-7f2d39aaa0ee"
   },
   "outputs": [
    {
     "name": "stdout",
     "output_type": "stream",
     "text": [
      "Model: \"sequential\"\n",
      "_________________________________________________________________\n",
      " Layer (type)                Output Shape              Param #   \n",
      "=================================================================\n",
      " embedding (Embedding)       (None, 8, 32)             1088      \n",
      "                                                                 \n",
      " global_average_pooling1d (  (None, 32)                0         \n",
      " GlobalAveragePooling1D)                                         \n",
      "                                                                 \n",
      " dense (Dense)               (None, 64)                2112      \n",
      "                                                                 \n",
      " dense_1 (Dense)             (None, 17)                1105      \n",
      "                                                                 \n",
      "=================================================================\n",
      "Total params: 4305 (16.82 KB)\n",
      "Trainable params: 4305 (16.82 KB)\n",
      "Non-trainable params: 0 (0.00 Byte)\n",
      "_________________________________________________________________\n"
     ]
    }
   ],
   "source": [
    "# Build the machine learning model\n",
    "model = tf.keras.Sequential([\n",
    "  tf.keras.layers.Embedding(input_dim=len(tokenizer.word_index)+1, output_dim=32, input_length=max_length),\n",
    "  tf.keras.layers.GlobalAveragePooling1D(),\n",
    "  tf.keras.layers.Dense(64, activation='relu'),\n",
    "  tf.keras.layers.Dense(len(answers), activation='softmax')\n",
    "])\n",
    "\n",
    "\n",
    "#model compile\n",
    "model.compile(loss='sparse_categorical_crossentropy', optimizer='adam', metrics=['accuracy'])\n",
    "\n",
    "model.summary()"
   ]
  },
  {
   "cell_type": "code",
   "execution_count": 6,
   "metadata": {
    "colab": {
     "base_uri": "https://localhost:8080/"
    },
    "id": "9_tu3nwoZNKg",
    "outputId": "676eb209-3cb7-441c-a6e8-cfa428567f6e"
   },
   "outputs": [
    {
     "name": "stdout",
     "output_type": "stream",
     "text": [
      "Epoch 1/20\n",
      "1/1 [==============================] - 1s 794ms/step - loss: 2.8323 - accuracy: 0.0588\n",
      "Epoch 2/20\n",
      "1/1 [==============================] - 0s 12ms/step - loss: 2.8302 - accuracy: 0.1176\n",
      "Epoch 3/20\n",
      "1/1 [==============================] - 0s 11ms/step - loss: 2.8283 - accuracy: 0.2941\n",
      "Epoch 4/20\n",
      "1/1 [==============================] - 0s 13ms/step - loss: 2.8266 - accuracy: 0.3529\n",
      "Epoch 5/20\n",
      "1/1 [==============================] - 0s 11ms/step - loss: 2.8249 - accuracy: 0.4118\n",
      "Epoch 6/20\n",
      "1/1 [==============================] - 0s 12ms/step - loss: 2.8231 - accuracy: 0.4706\n",
      "Epoch 7/20\n",
      "1/1 [==============================] - 0s 12ms/step - loss: 2.8213 - accuracy: 0.4706\n",
      "Epoch 8/20\n",
      "1/1 [==============================] - 0s 10ms/step - loss: 2.8196 - accuracy: 0.5294\n",
      "Epoch 9/20\n",
      "1/1 [==============================] - 0s 11ms/step - loss: 2.8179 - accuracy: 0.5294\n",
      "Epoch 10/20\n",
      "1/1 [==============================] - 0s 9ms/step - loss: 2.8163 - accuracy: 0.5294\n",
      "Epoch 11/20\n",
      "1/1 [==============================] - 0s 15ms/step - loss: 2.8145 - accuracy: 0.5882\n",
      "Epoch 12/20\n",
      "1/1 [==============================] - 0s 14ms/step - loss: 2.8127 - accuracy: 0.6471\n",
      "Epoch 13/20\n",
      "1/1 [==============================] - 0s 11ms/step - loss: 2.8110 - accuracy: 0.5882\n",
      "Epoch 14/20\n",
      "1/1 [==============================] - 0s 11ms/step - loss: 2.8092 - accuracy: 0.5882\n",
      "Epoch 15/20\n",
      "1/1 [==============================] - 0s 12ms/step - loss: 2.8073 - accuracy: 0.5882\n",
      "Epoch 16/20\n",
      "1/1 [==============================] - 0s 12ms/step - loss: 2.8054 - accuracy: 0.5882\n",
      "Epoch 17/20\n",
      "1/1 [==============================] - 0s 12ms/step - loss: 2.8033 - accuracy: 0.5882\n",
      "Epoch 18/20\n",
      "1/1 [==============================] - 0s 12ms/step - loss: 2.8012 - accuracy: 0.5882\n",
      "Epoch 19/20\n",
      "1/1 [==============================] - 0s 11ms/step - loss: 2.7991 - accuracy: 0.5882\n",
      "Epoch 20/20\n",
      "1/1 [==============================] - 0s 11ms/step - loss: 2.7968 - accuracy: 0.5882\n"
     ]
    },
    {
     "data": {
      "text/plain": [
       "<keras.src.callbacks.History at 0x7db44571d930>"
      ]
     },
     "execution_count": 6,
     "metadata": {},
     "output_type": "execute_result"
    }
   ],
   "source": [
    "# Train the model\n",
    "model.fit(padded_questions, np.array(range(len(questions))), epochs=20)"
   ]
  },
  {
   "cell_type": "code",
   "execution_count": 9,
   "metadata": {
    "colab": {
     "base_uri": "https://localhost:8080/"
    },
    "id": "EsUxs32NZNPU",
    "outputId": "d04ef583-5f0e-474b-9b2a-edcaf898bb21"
   },
   "outputs": [
    {
     "name": "stdout",
     "output_type": "stream",
     "text": [
      "Person: hi\n",
      "1/1 [==============================] - 0s 20ms/step\n",
      "hii\n",
      "Person: what is your name?\n",
      "1/1 [==============================] - 0s 20ms/step\n",
      "My name is Aishwarya\n",
      "Person: what  are you doing?\n",
      "1/1 [==============================] - 0s 21ms/step\n",
      "I am a student\n",
      "Person: what do you do?\n",
      "1/1 [==============================] - 0s 33ms/step\n",
      "Python programming language, SQL, Power BI, Ability to solve programming problems, Ability to analyze data\n",
      "Person: ok thanks for your time\n",
      "1/1 [==============================] - 0s 21ms/step\n",
      "You are Welcome\n",
      "Person: bye\n",
      "bye\n"
     ]
    }
   ],
   "source": [
    "# Define the chatbot interface\n",
    "def chatbot():\n",
    "    while True:\n",
    "        user_input = input(\"Person: \")\n",
    "        if user_input=='bye':\n",
    "            print ('bye')\n",
    "            break\n",
    "        else:\n",
    "            user_sequence = tokenizer.texts_to_sequences([user_input])\n",
    "            padded_user_sequence = tf.keras.preprocessing.sequence.pad_sequences(user_sequence, maxlen=max_length, padding='post')\n",
    "            prediction = np.argmax(model.predict(padded_user_sequence))\n",
    "            print(answers[prediction])\n",
    "\n",
    "# Run the chatbot\n",
    "chatbot()\n"
   ]
  },
  {
   "cell_type": "code",
   "execution_count": 10,
   "metadata": {
    "id": "b9C119qXZNRh"
   },
   "outputs": [],
   "source": [
    "# Define the chatbot responses as a dictionary\n",
    "chatbot_responses = {\n",
    "    \"hi\": \"hi\",\n",
    "    \"hii\": \"hii\",\n",
    "    \"hello\": \"hello\",\n",
    "    \"hey\": \"hey\",\n",
    "    \"how are you?\": \"I am fine\",\n",
    "    \"do you have time to talk?\": \"Yes, I have\",\n",
    "    \"what is your name?\": \"My name is Aishwarya\",\n",
    "    \"how old are you?\": \"22\",\n",
    "    \"what are you doing?\": \"I am a student\",\n",
    "    \"what do you study?\": \"I am studying Machine Learning\",\n",
    "    \"at which university?\": \"Pune university\",\n",
    "    \"what is the expected graduation year?\": \"2024\",\n",
    "    \"what skills do you have?\": \"Python programming language, SQL, Power BI, Ability to solve programming problems, Ability to analyze data\",\n",
    "    \"what do you do in your free time?\": \"I love Dancing, travelling, and learn new skills\",\n",
    "    \"ok, thanks for your time\": \"You are Welcome\",\n",
    "    \"thanks\": \"You are Welcome\",\n",
    "    \"bye\": \"Bye\"\n",
    "}\n"
   ]
  },
  {
   "cell_type": "code",
   "execution_count": 11,
   "metadata": {
    "colab": {
     "base_uri": "https://localhost:8080/"
    },
    "id": "PNzSrCunZNUu",
    "outputId": "125427e8-fa7a-465c-dad1-fb597540954f"
   },
   "outputs": [
    {
     "name": "stdout",
     "output_type": "stream",
     "text": [
      "You: hi\n",
      "Chatbot: hi\n",
      "You: hello\n",
      "Chatbot: hello\n",
      "You: how are you?\n",
      "Chatbot: I am fine\n",
      "You: what are you doing?\n",
      "Chatbot: I am a student\n",
      "You: what do you study?\n",
      "Chatbot: I am studying Machine Learning\n",
      "You: at which university?\n",
      "Chatbot: Pune university\n",
      "You: what do you do in your free time?\n",
      "Chatbot: I love Dancing, travelling, and learn new skills\n",
      "You: ok thanks, for your time\n",
      "Chatbot: I don't understand that. Please ask something else.\n",
      "You: ok thanks for your time\n",
      "Chatbot: I don't understand that. Please ask something else.\n",
      "You: thanks\n",
      "Chatbot: You are Welcome\n",
      "You: bye\n",
      "Chatbot: Bye\n",
      "You: exit\n",
      "Chatbot: Goodbye!\n"
     ]
    }
   ],
   "source": [
    "# Chatbot loop\n",
    "while True:\n",
    "    user_input = input(\"You: \").lower()\n",
    "    if user_input == \"exit\":\n",
    "        print(\"Chatbot: Goodbye!\")\n",
    "        break\n",
    "\n",
    "    response = chatbot_responses.get(user_input, \"I don't understand that. Please ask something else.\")\n",
    "    print(\"Chatbot:\", response)\n"
   ]
  },
  {
   "cell_type": "code",
   "execution_count": null,
   "metadata": {
    "id": "UQV_2zmeZNXI"
   },
   "outputs": [],
   "source": []
  }
 ],
 "metadata": {
  "colab": {
   "name": "Welcome To Colaboratory",
   "provenance": []
  },
  "kernelspec": {
   "display_name": "Python 3 (ipykernel)",
   "language": "python",
   "name": "python3"
  },
  "language_info": {
   "codemirror_mode": {
    "name": "ipython",
    "version": 3
   },
   "file_extension": ".py",
   "mimetype": "text/x-python",
   "name": "python",
   "nbconvert_exporter": "python",
   "pygments_lexer": "ipython3",
   "version": "3.10.9"
  }
 },
 "nbformat": 4,
 "nbformat_minor": 1
}
